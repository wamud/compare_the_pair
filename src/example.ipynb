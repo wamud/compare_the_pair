{
 "cells": [
  {
   "cell_type": "markdown",
   "metadata": {},
   "source": [
    "#### Example"
   ]
  },
  {
   "cell_type": "markdown",
   "metadata": {},
   "source": [
    "This is an example of the complete process used to generate and plot the data for the paper 'Compare the Pair: Rotated vs. Unrotated Surface Codes at Equal Logical Error Rates'. "
   ]
  },
  {
   "cell_type": "markdown",
   "metadata": {},
   "source": [
    "##### Requirements"
   ]
  },
  {
   "cell_type": "code",
   "execution_count": 1,
   "metadata": {},
   "outputs": [],
   "source": [
    "# pip install stim      # Stim: a stabiliser circuit simulator"
   ]
  },
  {
   "cell_type": "code",
   "execution_count": 2,
   "metadata": {},
   "outputs": [],
   "source": [
    "# pip install sinter==1.13.0 "
   ]
  },
  {
   "cell_type": "code",
   "execution_count": 3,
   "metadata": {},
   "outputs": [],
   "source": [
    "import sinter\n",
    "import stim\n",
    "import numpy as np\n",
    "\n",
    "import os\n",
    "import sys\n",
    "\n",
    "import shutil\n",
    "import subprocess\n",
    "\n",
    "sys.path.insert(0, 'functions') \n",
    "import oscAntgencircuitv2 as oscant\n",
    "import morefuncs as morefuncs\n",
    "import com_funcs5 as funcs\n",
    "\n",
    "# Update with any changes to these files:\n",
    "from importlib import reload\n",
    "reload(morefuncs)\n",
    "reload(funcs)\n",
    "reload(oscant);"
   ]
  },
  {
   "cell_type": "markdown",
   "metadata": {},
   "source": [
    "##### Generate surface code circuits:"
   ]
  },
  {
   "cell_type": "code",
   "execution_count": 4,
   "metadata": {},
   "outputs": [],
   "source": [
    "reload(morefuncs)\n",
    "\n",
    "# Delete existing circuits (so as not to simulate them)\n",
    "shutil.rmtree('circuits', ignore_errors=True)\n",
    "\n",
    "# Make directories to store new circuits:\n",
    "for path in ['SI/x', 'SI/z', 'SD/x', 'SD/z']:\n",
    "    os.makedirs(f'circuits/{path}', exist_ok=True)\n",
    "\n",
    "\n",
    "# Generate circuits:\n",
    "\n",
    "# x = (...) and z = (...) below define the CNOT order for x and z type stabilisers. E.g. order 10231203 avoids hook errors in the rotated code and is a worst-case CNOT order for the unrotated code if doing memory Z experiments (worst-case taken to be most applicable to all states). \n",
    "\n",
    "noise = [0.0048, 0.0049]\n",
    "\n",
    "for ro in ['ro','unro']:\n",
    "    \n",
    "    if ro == 'unro':\n",
    "        x = (1,0,2,3)\n",
    "        z = (1,2,0,3)\n",
    "        unro_CNOT_order = int(''.join(map(str, x + z)))\n",
    "        ds = range(2,18)\n",
    "    \n",
    "    elif ro == 'ro':\n",
    "        x = (3,2,0,1) # x hook error in rotated code if last two x-type CNOT's are 12, 21, 03 or 30\n",
    "        z = (3,0,2,1) # z hook error in rotated code if last two z-type CNOT's are 01, 10, 23 or 32\n",
    "        ro_CNOT_order = int(''.join(map(str, x + z)))\n",
    "        ds = range(2,23)\n",
    "\n",
    "    for p in noise:\n",
    "        for d in ds:\n",
    "            for b in 'xz':\n",
    "                \n",
    "                thecircuit = oscant.generate_circuit(\n",
    "                    f\"surface_code:{ro}tated_memory_{b}\",\n",
    "                    rounds=3*d, \n",
    "                    distance=d, \n",
    "                    after_clifford_depolarization=p,\n",
    "                    after_reset_flip_probability=p,\n",
    "                    before_measure_flip_probability=p, \n",
    "                    before_round_data_depolarization=p,\n",
    "                    x_cnot_order = x,\n",
    "                    z_cnot_order = z,\n",
    "                    exclude_other_basis_detectors = True, # no need to add their detections to the graph which will be given to PyMatching as it is not a correlated decoder (still perform the opposite basis' stabiliser measurements though)\n",
    "                )\n",
    "\n",
    "                morefuncs.add_idling_errors_and_save_circuit(thecircuit, b, d, p, ro, x, z) # saves circuit in circuits/SD (standard depolarising)\n",
    "\n",
    "                # # Optional: Generate CXSI noise model circuits too by adjusting error probs. of SD circuits then saving a separate circuit:\n",
    "\n",
    "                thecircuit = morefuncs.make_CXSI_circuit(b, d, p, ro, x, z)"
   ]
  },
  {
   "cell_type": "markdown",
   "metadata": {},
   "source": [
    "##### Optional: visualise a circuit"
   ]
  },
  {
   "cell_type": "code",
   "execution_count": 5,
   "metadata": {},
   "outputs": [],
   "source": [
    "# circuit_path = f\"circuits/CXSI/x/d=5,p=0.0005,noise=CXSI,b=x,r=3d,ro=ro,o=32013021,idl=y.stim\"\n",
    "# thecircuit = stim.Circuit.from_file(circuit_path) \n",
    "\n",
    "# print(repr(thecircuit))\n",
    "# display(thecircuit.without_noise().diagram(\"detslice-with-ops-svg\", tick=range(0,4))) # note only one stab. type detecting region appears if exlude_other_basis_detectors above is True, though the operations will still be done to measure that stabiliser\n",
    "# display(thecircuit.without_noise().diagram(\"detslice-svg\", tick=range(0,4)))\n",
    "# display(thecircuit.without_noise().diagram('timeline-svg'))\n",
    "# display(thecircuit.diagram('timeline-svg'))\n",
    "# display(thecircuit.diagram('timeline-svg'))"
   ]
  },
  {
   "cell_type": "markdown",
   "metadata": {},
   "source": [
    "##### Sample the circuits:"
   ]
  },
  {
   "cell_type": "code",
   "execution_count": null,
   "metadata": {},
   "outputs": [],
   "source": [
    "%%bash\n",
    "\n",
    "noise_model=\"SI\" # either SD (standard depolarising) or SI (superconducting-inspired) noise\n",
    "\n",
    "rm collected_stats/example_stats.csv 2>/dev/null\n",
    "\n",
    "\n",
    "sinter collect \\\n",
    "    --processes 32 \\\n",
    "    --circuits circuits/$noise_model/{x,z}/*.stim \\\n",
    "    --metadata_func \"sinter.comma_separated_key_values(path)\" \\\n",
    "    --decoders pymatching \\\n",
    "    --max_shots 1_000_000 \\\n",
    "    --max_errors 1_000_000 \\\n",
    "    --quiet \\\n",
    "    --save_resume_filepath collected_stats/example_stats.csv"
   ]
  },
  {
   "cell_type": "code",
   "execution_count": null,
   "metadata": {},
   "outputs": [],
   "source": [
    "# # # combine and print the stats (optional):\n",
    "# result = subprocess.run(\n",
    "#     ['sinter', 'combine', 'collected_stats/example_stats.csv'], \n",
    "#     check=True, text=True, capture_output=True)\n",
    "# print(result.stdout)\n",
    "# print(result.stderr)"
   ]
  },
  {
   "cell_type": "markdown",
   "metadata": {},
   "source": [
    "##### Threshold plots: $p_L$ vs. $p$"
   ]
  },
  {
   "cell_type": "code",
   "execution_count": null,
   "metadata": {},
   "outputs": [],
   "source": [
    "# python:\n",
    "reload(funcs)\n",
    "\n",
    "mylist = sinter.stats_from_csv_files(f'collected_stats/example_stats.csv')\n",
    "\n",
    "funcs.plot_thresholds(mylist, ro_CNOT_order, unro_CNOT_order) # note different y-axis scalings"
   ]
  },
  {
   "cell_type": "markdown",
   "metadata": {},
   "source": [
    "##### Fit to scaling function $p_L = \\alpha ( p / \\beta)^{\\gamma d - \\delta}$"
   ]
  },
  {
   "cell_type": "code",
   "execution_count": null,
   "metadata": {},
   "outputs": [],
   "source": [
    "reload(funcs)\n",
    "distances = 'combined' # choices are 'odd', 'even' or 'combined'\n",
    "b = 'z' # choices are x or z \n",
    "\n",
    "\n",
    "\n",
    "funcs.fit_scaling_and_plot(mylist, distances, b, ro_CNOT_order, unro_CNOT_order, minp = min(noise), maxp = max(noise))"
   ]
  },
  {
   "cell_type": "markdown",
   "metadata": {},
   "source": [
    "##### Plot as $p_L$ vs. $\\sqrt{n}$"
   ]
  },
  {
   "cell_type": "code",
   "execution_count": null,
   "metadata": {},
   "outputs": [],
   "source": [
    "reload(funcs)\n",
    "\n",
    "b = 'z' \n",
    "\n",
    "mylist = sinter.stats_from_csv_files(f'collected_stats/example_stats.csv')\n",
    "# \n",
    "funcs.plot_pL_vs_qubit_count(mylist, b, ro_CNOT_order, unro_CNOT_order)"
   ]
  },
  {
   "cell_type": "markdown",
   "metadata": {},
   "source": [
    "##### Plot 'teraquop' count :$\\ $ the number of qubits required to reach $p_L = 10^{-12}$"
   ]
  },
  {
   "cell_type": "code",
   "execution_count": null,
   "metadata": {},
   "outputs": [],
   "source": [
    "funcs.plot_teraquop(mylist, b, ro_CNOT_order, unro_CNOT_order, optional_plot = False)"
   ]
  },
  {
   "cell_type": "markdown",
   "metadata": {},
   "source": [
    "##### Plot ratios of qubit counts vs. $p_L$"
   ]
  },
  {
   "cell_type": "markdown",
   "metadata": {},
   "source": [
    "This is the projected number of qubits used by the rotated surface code divided by the number of qubits used by the unrotated surface code to achieve the same $p_L$"
   ]
  },
  {
   "cell_type": "code",
   "execution_count": null,
   "metadata": {},
   "outputs": [],
   "source": [
    "reload(funcs)\n",
    "\n",
    "funcs.plot_ratio(mylist, b, ro_CNOT_order, unro_CNOT_order)"
   ]
  },
  {
   "cell_type": "markdown",
   "metadata": {},
   "source": [
    "##### Memory time vs. $\\sqrt{n}$"
   ]
  },
  {
   "cell_type": "markdown",
   "metadata": {},
   "source": [
    "This is a reformulation of the $p_L$ vs. $\\sqrt{n}$ plots above, converting the $p_L$ per $d$ rounds to be the length of time (assuming one stabiliser measurement cycle take a microsecond) before $p_L$ over the entire shot of the memory experiment equals $p$."
   ]
  },
  {
   "cell_type": "code",
   "execution_count": null,
   "metadata": {},
   "outputs": [],
   "source": [
    "funcs.plot_memory_times(mylist, b, ro_CNOT_order, unro_CNOT_order)"
   ]
  }
 ],
 "metadata": {
  "kernelspec": {
   "display_name": "Python 3 (ipykernel)",
   "language": "python",
   "name": "python3"
  },
  "language_info": {
   "codemirror_mode": {
    "name": "ipython",
    "version": 3
   },
   "file_extension": ".py",
   "mimetype": "text/x-python",
   "name": "python",
   "nbconvert_exporter": "python",
   "pygments_lexer": "ipython3",
   "version": "3.12.4"
  }
 },
 "nbformat": 4,
 "nbformat_minor": 2
}
