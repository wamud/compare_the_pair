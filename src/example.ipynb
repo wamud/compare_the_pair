{
 "cells": [
  {
   "cell_type": "markdown",
   "metadata": {},
   "source": [
    "#### Example"
   ]
  },
  {
   "cell_type": "markdown",
   "metadata": {},
   "source": [
    "This is an example of the complete process used to generate and plot the data for the paper 'Compare the Pair: Rotated vs. Unrotated Surface Codes at Equal Logical Error Rates'. "
   ]
  },
  {
   "cell_type": "markdown",
   "metadata": {},
   "source": [
    "##### Requirements"
   ]
  },
  {
   "cell_type": "code",
   "execution_count": 218,
   "metadata": {},
   "outputs": [],
   "source": [
    "# pip install stim      # Stim: a stabiliser circuit simulator"
   ]
  },
  {
   "cell_type": "code",
   "execution_count": 219,
   "metadata": {},
   "outputs": [],
   "source": [
    "# pip install sinter==1.13.0 "
   ]
  },
  {
   "cell_type": "code",
   "execution_count": 220,
   "metadata": {},
   "outputs": [],
   "source": [
    "import sinter\n",
    "import stim\n",
    "import numpy as np\n",
    "\n",
    "import os\n",
    "import sys\n",
    "\n",
    "import shutil\n",
    "import subprocess\n",
    "\n",
    "sys.path.insert(0, 'functions') \n",
    "import oscAntgencircuitv2 as oscant\n",
    "import morefuncs as morefuncs\n",
    "import com_funcs5 as funcs\n",
    "\n",
    "# Update with any changes to these files:\n",
    "from importlib import reload\n",
    "reload(morefuncs)\n",
    "reload(funcs)\n",
    "reload(oscant);"
   ]
  },
  {
   "cell_type": "markdown",
   "metadata": {},
   "source": [
    "##### Generate surface code circuits:"
   ]
  },
  {
   "cell_type": "code",
   "execution_count": 227,
   "metadata": {},
   "outputs": [],
   "source": [
    "reload(morefuncs)\n",
    "\n",
    "# Delete existing circuits (so as not to simulate them)\n",
    "shutil.rmtree('circuits', ignore_errors=True)\n",
    "\n",
    "# Make directories to store new circuits:\n",
    "for path in ['SI/x', 'SI/z', 'SD/x', 'SD/z']:\n",
    "    os.makedirs(f'circuits/{path}', exist_ok=True)\n",
    "\n",
    "\n",
    "# Generate circuits:\n",
    "\n",
    "# x = (...) and z = (...) below define the CNOT order for x and z type stabilisers. E.g. order 10231203 avoids hook errors in the rotated code and is a worst-case CNOT order for the unrotated code if doing memory Z experiments (worst-case taken to be most applicable to all states). \n",
    "\n",
    "# p_values = [0.0005,0.0007,0.001,0.002,0.003,0.004,0.0049,0.005,0.0051,0.0052,0.0055,0.0056,0.0057,0.0058,0.006,0.007,0.008,0.009,0.01] \n",
    "p_values = [0.0033]\n",
    "\n",
    "\n",
    "for ro in ['unro']:#,'ro']:\n",
    "    \n",
    "    if ro == 'unro':\n",
    "        x = (1,0,2,3)\n",
    "        z = (1,2,0,3)\n",
    "        unro_CNOT_order = int(''.join(map(str, x + z)))\n",
    "        ds = range(2,18)\n",
    "\n",
    "    \n",
    "    elif ro == 'ro':\n",
    "        x = (3,2,0,1) # x hook error in rotated code if last two x-type CNOT's are 12, 21, 03 or 30\n",
    "        z = (3,0,2,1) # z hook error in rotated code if last two z-type CNOT's are 01, 10, 23 or 32\n",
    "        ro_CNOT_order = int(''.join(map(str, x + z)))\n",
    "        ds = range(2,23)\n",
    "\n",
    "    for p in p_values:\n",
    "\n",
    "        for d in ds:\n",
    "            for b in 'xz':\n",
    "                \n",
    "                thecircuit = oscant.generate_circuit(\n",
    "                    f\"surface_code:{ro}tated_memory_{b}\",\n",
    "                    rounds=3*d, \n",
    "                    distance=d, \n",
    "                    after_clifford_depolarization=p,\n",
    "                    after_reset_flip_probability=p,\n",
    "                    before_measure_flip_probability=p, \n",
    "                    before_round_data_depolarization=p,\n",
    "                    x_cnot_order = x,\n",
    "                    z_cnot_order = z,\n",
    "                    exclude_other_basis_detectors = True, # no need to add their detections to the graph which will be given to PyMatching as it is not a correlated decoder (still perform the opposite basis' stabiliser measurements though)\n",
    "                )\n",
    "\n",
    "                morefuncs.add_idling_errors_and_save_circuit(thecircuit, b, d, p, ro, x, z) # saves circuit in circuits/SD (standard depolarising)\n",
    "\n",
    "                # # Optional: Generate CXSI (SI with CX gates) p_values model circuits too by adjusting error probs. of SD circuits then saving a separate circuit:\n",
    "\n",
    "                thecircuit = morefuncs.make_CXSI_circuit(b, d, p, ro, x, z)"
   ]
  },
  {
   "cell_type": "markdown",
   "metadata": {},
   "source": [
    "##### Optional: visualise a circuit"
   ]
  },
  {
   "cell_type": "code",
   "execution_count": 222,
   "metadata": {},
   "outputs": [],
   "source": [
    "# noise_model = 'SD' # choices are SD (standard depolarising) or SI (superconducting inspired) -- both circuit-level.\n",
    "# d = 3 # distance \n",
    "# p = 0.0005 # physical error rate\n",
    "# basis = 'x' # choices are x (preserve logical plus state) or z (preserve logical zero state)\n",
    "# rot = 'ro' # choices are 'ro' or 'unro' for rotated or unrotated surface code\n",
    "# order = 32013021 # CNOT order as an integer.\n",
    "\n",
    "# circuit_path = f\"circuits/{noise_model}/{basis}/d={d},p={p},b={basis},r=3d,ro={rot},o={order},idl=y.stim\"\n",
    "# thecircuit = stim.Circuit.from_file(circuit_path) \n",
    "\n",
    "# print(repr(thecircuit))\n",
    "# display(thecircuit.without_noise().diagram(\"detslice-with-ops-svg\", tick=range(0,4))) # note only one stab. type detecting region appears if exlude_other_basis_detectors above is True, though the operations will still be done to measure that stabiliser\n",
    "# display(thecircuit.without_noise().diagram(\"detslice-svg\", tick=range(0,4)))\n",
    "# display(thecircuit.without_noise().diagram('timeline-svg'))\n",
    "# display(thecircuit.diagram('timeline-svg'))\n",
    "# display(thecircuit.diagram('timeline-svg'))\n",
    "\n"
   ]
  },
  {
   "cell_type": "markdown",
   "metadata": {},
   "source": [
    "##### Sample the circuits:"
   ]
  },
  {
   "cell_type": "code",
   "execution_count": 223,
   "metadata": {},
   "outputs": [
    {
     "name": "stderr",
     "output_type": "stream",
     "text": [
      "\u001b[31mStarting 4 workers...\u001b[0m\n",
      "\u001b[31mFinding work...\u001b[0m\n",
      "\u001b[31m8 cases left:\n",
      "    pymatching processes=1  ~core_mins_left=None    (initializing...) {b=x,d=13,idl=y,o=10231203,p=0.008,r=3d,ro=unro}\n",
      "    pymatching processes=1  ~core_mins_left=None    (initializing...) {b=x,d=13,idl=y,o=10231203,p=0.009,r=3d,ro=unro}\n",
      "    pymatching processes=1  ~core_mins_left=None    (initializing...) {b=x,d=15,idl=y,o=10231203,p=0.008,r=3d,ro=unro}\n",
      "    pymatching processes=1  ~core_mins_left=None    (initializing...) {b=x,d=15,idl=y,o=10231203,p=0.009,r=3d,ro=unro}\u001b[0m\n",
      "\u001b[31m8 cases left:\n",
      "    pymatching processes=1  ~core_mins_left=None    shots_left=1        errors_left=1       {b=x,d=13,idl=y,o=10231203,p=0.008,r=3d,ro=unro}\n",
      "    pymatching processes=1  ~core_mins_left=None    (initializing...) {b=x,d=13,idl=y,o=10231203,p=0.009,r=3d,ro=unro}\n",
      "    pymatching processes=1  ~core_mins_left=None    (initializing...) {b=x,d=15,idl=y,o=10231203,p=0.008,r=3d,ro=unro}\n",
      "    pymatching processes=1  ~core_mins_left=None    (initializing...) {b=x,d=15,idl=y,o=10231203,p=0.009,r=3d,ro=unro}\u001b[0m\n",
      "\u001b[31m8 cases left:\n",
      "    pymatching processes=1  ~core_mins_left=None    shots_left=1        errors_left=1       {b=x,d=13,idl=y,o=10231203,p=0.008,r=3d,ro=unro}\n",
      "    pymatching processes=1  ~core_mins_left=None    shots_left=1        errors_left=1       {b=x,d=13,idl=y,o=10231203,p=0.009,r=3d,ro=unro}\n",
      "    pymatching processes=1  ~core_mins_left=None    (initializing...) {b=x,d=15,idl=y,o=10231203,p=0.008,r=3d,ro=unro}\n",
      "    pymatching processes=1  ~core_mins_left=None    (initializing...) {b=x,d=15,idl=y,o=10231203,p=0.009,r=3d,ro=unro}\u001b[0m\n",
      "\u001b[31m8 cases left:\n",
      "    pymatching processes=1  ~core_mins_left=None    shots_left=1        errors_left=1       {b=x,d=13,idl=y,o=10231203,p=0.008,r=3d,ro=unro}\n",
      "    pymatching processes=1  ~core_mins_left=None    shots_left=1        errors_left=1       {b=x,d=13,idl=y,o=10231203,p=0.009,r=3d,ro=unro}\n",
      "    pymatching processes=1  ~core_mins_left=None    (initializing...) {b=x,d=15,idl=y,o=10231203,p=0.008,r=3d,ro=unro}\n",
      "    pymatching processes=1  ~core_mins_left=None    shots_left=1        errors_left=1       {b=x,d=15,idl=y,o=10231203,p=0.009,r=3d,ro=unro}\u001b[0m\n",
      "\u001b[31m8 cases left:\n",
      "    pymatching processes=1  ~core_mins_left=None    shots_left=1        errors_left=1       {b=x,d=13,idl=y,o=10231203,p=0.008,r=3d,ro=unro}\n",
      "    pymatching processes=1  ~core_mins_left=None    shots_left=1        errors_left=1       {b=x,d=13,idl=y,o=10231203,p=0.009,r=3d,ro=unro}\n",
      "    pymatching processes=1  ~core_mins_left=None    shots_left=1        errors_left=1       {b=x,d=15,idl=y,o=10231203,p=0.008,r=3d,ro=unro}\n",
      "    pymatching processes=1  ~core_mins_left=None    shots_left=1        errors_left=1       {b=x,d=15,idl=y,o=10231203,p=0.009,r=3d,ro=unro}\u001b[0m\n",
      "\u001b[31m7 cases left:\n",
      "    pymatching processes=1  ~core_mins_left=None    shots_left=1        errors_left=1       {b=x,d=13,idl=y,o=10231203,p=0.009,r=3d,ro=unro}\n",
      "    pymatching processes=1  ~core_mins_left=None    shots_left=1        errors_left=1       {b=x,d=15,idl=y,o=10231203,p=0.008,r=3d,ro=unro}\n",
      "    pymatching processes=1  ~core_mins_left=None    shots_left=1        errors_left=1       {b=x,d=15,idl=y,o=10231203,p=0.009,r=3d,ro=unro}\n",
      "    pymatching processes=1  ~core_mins_left=None    (initializing...) {b=z,d=13,idl=y,o=10231203,p=0.008,r=3d,ro=unro}\u001b[0m\n",
      "\u001b[31m7 cases left:\n",
      "    pymatching processes=1  ~core_mins_left=None    shots_left=1        errors_left=1       {b=x,d=13,idl=y,o=10231203,p=0.009,r=3d,ro=unro}\n",
      "    pymatching processes=1  ~core_mins_left=None    shots_left=1        errors_left=1       {b=x,d=15,idl=y,o=10231203,p=0.008,r=3d,ro=unro}\n",
      "    pymatching processes=1  ~core_mins_left=None    shots_left=1        errors_left=1       {b=x,d=15,idl=y,o=10231203,p=0.009,r=3d,ro=unro}\n",
      "    pymatching processes=1  ~core_mins_left=None    shots_left=1        errors_left=1       {b=z,d=13,idl=y,o=10231203,p=0.008,r=3d,ro=unro}\u001b[0m\n",
      "\u001b[31m6 cases left:\n",
      "    pymatching processes=1  ~core_mins_left=None    shots_left=1        errors_left=1       {b=x,d=13,idl=y,o=10231203,p=0.009,r=3d,ro=unro}\n",
      "    pymatching processes=1  ~core_mins_left=None    shots_left=1        errors_left=1       {b=x,d=15,idl=y,o=10231203,p=0.009,r=3d,ro=unro}\n",
      "    pymatching processes=1  ~core_mins_left=None    shots_left=1        errors_left=1       {b=z,d=13,idl=y,o=10231203,p=0.008,r=3d,ro=unro}\n",
      "    pymatching processes=1  ~core_mins_left=None    (initializing...) {b=z,d=13,idl=y,o=10231203,p=0.009,r=3d,ro=unro}\u001b[0m\n",
      "\u001b[31m5 cases left:\n",
      "    pymatching processes=1  ~core_mins_left=None    shots_left=1        errors_left=1       {b=x,d=13,idl=y,o=10231203,p=0.009,r=3d,ro=unro}\n",
      "    pymatching processes=1  ~core_mins_left=None    shots_left=1        errors_left=1       {b=z,d=13,idl=y,o=10231203,p=0.008,r=3d,ro=unro}\n",
      "    pymatching processes=1  ~core_mins_left=None    (initializing...) {b=z,d=13,idl=y,o=10231203,p=0.009,r=3d,ro=unro}\n",
      "    pymatching processes=1  ~core_mins_left=None    (initializing...) {b=z,d=15,idl=y,o=10231203,p=0.008,r=3d,ro=unro}\u001b[0m\n",
      "\u001b[31m4 cases left:\n",
      "    pymatching processes=1  ~core_mins_left=None    shots_left=1        errors_left=1       {b=z,d=13,idl=y,o=10231203,p=0.008,r=3d,ro=unro}\n",
      "    pymatching processes=1  ~core_mins_left=None    (initializing...) {b=z,d=13,idl=y,o=10231203,p=0.009,r=3d,ro=unro}\n",
      "    pymatching processes=1  ~core_mins_left=None    (initializing...) {b=z,d=15,idl=y,o=10231203,p=0.008,r=3d,ro=unro}\n",
      "    pymatching processes=1  ~core_mins_left=None    (initializing...) {b=z,d=15,idl=y,o=10231203,p=0.009,r=3d,ro=unro}\u001b[0m\n",
      "\u001b[31m4 cases left:\n",
      "    pymatching processes=1  ~core_mins_left=None    shots_left=1        errors_left=1       {b=z,d=13,idl=y,o=10231203,p=0.008,r=3d,ro=unro}\n",
      "    pymatching processes=1  ~core_mins_left=None    (initializing...) {b=z,d=13,idl=y,o=10231203,p=0.009,r=3d,ro=unro}\n",
      "    pymatching processes=1  ~core_mins_left=None    (initializing...) {b=z,d=15,idl=y,o=10231203,p=0.008,r=3d,ro=unro}\n",
      "    pymatching processes=1  ~core_mins_left=None    shots_left=1        errors_left=1       {b=z,d=15,idl=y,o=10231203,p=0.009,r=3d,ro=unro}\u001b[0m\n",
      "\u001b[31m4 cases left:\n",
      "    pymatching processes=1  ~core_mins_left=None    shots_left=1        errors_left=1       {b=z,d=13,idl=y,o=10231203,p=0.008,r=3d,ro=unro}\n",
      "    pymatching processes=1  ~core_mins_left=None    shots_left=1        errors_left=1       {b=z,d=13,idl=y,o=10231203,p=0.009,r=3d,ro=unro}\n",
      "    pymatching processes=1  ~core_mins_left=None    (initializing...) {b=z,d=15,idl=y,o=10231203,p=0.008,r=3d,ro=unro}\n",
      "    pymatching processes=1  ~core_mins_left=None    shots_left=1        errors_left=1       {b=z,d=15,idl=y,o=10231203,p=0.009,r=3d,ro=unro}\u001b[0m\n",
      "\u001b[31m4 cases left:\n",
      "    pymatching processes=1  ~core_mins_left=None    shots_left=1        errors_left=1       {b=z,d=13,idl=y,o=10231203,p=0.008,r=3d,ro=unro}\n",
      "    pymatching processes=1  ~core_mins_left=None    shots_left=1        errors_left=1       {b=z,d=13,idl=y,o=10231203,p=0.009,r=3d,ro=unro}\n",
      "    pymatching processes=1  ~core_mins_left=None    shots_left=1        errors_left=1       {b=z,d=15,idl=y,o=10231203,p=0.008,r=3d,ro=unro}\n",
      "    pymatching processes=1  ~core_mins_left=None    shots_left=1        errors_left=1       {b=z,d=15,idl=y,o=10231203,p=0.009,r=3d,ro=unro}\u001b[0m\n",
      "\u001b[31m3 cases left:\n",
      "    pymatching processes=1  ~core_mins_left=None    shots_left=1        errors_left=1       {b=z,d=13,idl=y,o=10231203,p=0.008,r=3d,ro=unro}\n",
      "    pymatching processes=1  ~core_mins_left=None    shots_left=1        errors_left=1       {b=z,d=15,idl=y,o=10231203,p=0.008,r=3d,ro=unro}\n",
      "    pymatching processes=1  ~core_mins_left=None    shots_left=1        errors_left=1       {b=z,d=15,idl=y,o=10231203,p=0.009,r=3d,ro=unro}\u001b[0m\n",
      "\u001b[31m2 cases left:\n",
      "    pymatching processes=1  ~core_mins_left=None    shots_left=1        errors_left=1       {b=z,d=15,idl=y,o=10231203,p=0.008,r=3d,ro=unro}\n",
      "    pymatching processes=1  ~core_mins_left=None    shots_left=1        errors_left=1       {b=z,d=15,idl=y,o=10231203,p=0.009,r=3d,ro=unro}\u001b[0m\n",
      "\u001b[31m1 cases left:\n",
      "    pymatching processes=1  ~core_mins_left=None    shots_left=1        errors_left=1       {b=z,d=15,idl=y,o=10231203,p=0.009,r=3d,ro=unro}\u001b[0m\n",
      "\u001b[31mDone collecting\u001b[0m\n"
     ]
    }
   ],
   "source": [
    "%%bash\n",
    "\n",
    "noise_model=\"SD\" # either SD (standard depolarising) or SI (superconducting-inspired) noise\n",
    "\n",
    "rm collected_stats/example_stats.csv 2>/dev/null\n",
    "\n",
    "\n",
    "sinter collect \\\n",
    "    --processes 4 \\\n",
    "    --circuits circuits/$noise_model/*/*.stim \\\n",
    "    --metadata_func \"sinter.comma_separated_key_values(path)\" \\\n",
    "    --decoders pymatching \\\n",
    "    --max_shots 1 \\\n",
    "    --max_errors 1 \\\n",
    "    --save_resume_filepath collected_stats/example_stats.csv"
   ]
  },
  {
   "cell_type": "code",
   "execution_count": 224,
   "metadata": {},
   "outputs": [
    {
     "name": "stdout",
     "output_type": "stream",
     "text": [
      "     shots,    errors,  discards, seconds,decoder,strong_id,json_metadata,custom_counts\n",
      "       100,        54,         0,    2.33,pymatching,4135fb35314e3476d450e8e3a8c4ae0c473b2b724e61039b465ec94fc1e4fc60,\"{\"\"b\"\":\"\"x\"\",\"\"d\"\":13,\"\"idl\"\":\"\"y\"\",\"\"o\"\":10231203,\"\"p\"\":0.008,\"\"r\"\":\"\"3d\"\",\"\"ro\"\":\"\"unro\"\"}\",\n",
      "       100,        54,         0,    2.38,pymatching,1aa64d859248b72f58c8574d3be61a0ed3f5059ec2c983dd9286a9663822dc8b,\"{\"\"b\"\":\"\"x\"\",\"\"d\"\":13,\"\"idl\"\":\"\"y\"\",\"\"o\"\":10231203,\"\"p\"\":0.009,\"\"r\"\":\"\"3d\"\",\"\"ro\"\":\"\"unro\"\"}\",\n",
      "       100,        47,         0,    2.71,pymatching,187826fa29e02d5583b08e8777e99908a60529b8dd2cc056b4db9e658ccbaf84,\"{\"\"b\"\":\"\"x\"\",\"\"d\"\":15,\"\"idl\"\":\"\"y\"\",\"\"o\"\":10231203,\"\"p\"\":0.008,\"\"r\"\":\"\"3d\"\",\"\"ro\"\":\"\"unro\"\"}\",\n",
      "       100,        45,         0,    2.93,pymatching,d25ac0913f8d46adeb2787eb7297dd3f134ca27071ac73777b243338ece01b39,\"{\"\"b\"\":\"\"x\"\",\"\"d\"\":15,\"\"idl\"\":\"\"y\"\",\"\"o\"\":10231203,\"\"p\"\":0.009,\"\"r\"\":\"\"3d\"\",\"\"ro\"\":\"\"unro\"\"}\",\n",
      "       100,        52,         0,    1.00,pymatching,375468bc9db2b2751d9d09d2a74d10e99f618955e1dcac7b6cda4716a72a4590,\"{\"\"b\"\":\"\"z\"\",\"\"d\"\":13,\"\"idl\"\":\"\"y\"\",\"\"o\"\":10231203,\"\"p\"\":0.008,\"\"r\"\":\"\"3d\"\",\"\"ro\"\":\"\"unro\"\"}\",\n",
      "       100,        54,         0,    1.29,pymatching,874a982d67588c93136f9a2a47a387a6bd0dd995f33072bfdf2fac9f4a1e4f17,\"{\"\"b\"\":\"\"z\"\",\"\"d\"\":13,\"\"idl\"\":\"\"y\"\",\"\"o\"\":10231203,\"\"p\"\":0.009,\"\"r\"\":\"\"3d\"\",\"\"ro\"\":\"\"unro\"\"}\",\n",
      "       100,        47,         0,    1.60,pymatching,53d95ca1cadb9211c5e6cc55ee75fe26a4183995343f71c09efa8e04c574d9e8,\"{\"\"b\"\":\"\"z\"\",\"\"d\"\":15,\"\"idl\"\":\"\"y\"\",\"\"o\"\":10231203,\"\"p\"\":0.008,\"\"r\"\":\"\"3d\"\",\"\"ro\"\":\"\"unro\"\"}\",\n",
      "       100,        47,         0,    1.93,pymatching,eec3fe6d23140ec97f1e3b180e35302b3db2b6ebd5d23094204679ef113134d8,\"{\"\"b\"\":\"\"z\"\",\"\"d\"\":15,\"\"idl\"\":\"\"y\"\",\"\"o\"\":10231203,\"\"p\"\":0.009,\"\"r\"\":\"\"3d\"\",\"\"ro\"\":\"\"unro\"\"}\",\n",
      "\n",
      "\n"
     ]
    }
   ],
   "source": [
    "# # # combine and print the stats (optional):\n",
    "result = subprocess.run(\n",
    "    ['sinter', 'combine', 'collected_stats/example_stats.csv'], \n",
    "    check=True, text=True, capture_output=True)\n",
    "print(result.stdout)\n",
    "print(result.stderr)"
   ]
  },
  {
   "cell_type": "markdown",
   "metadata": {},
   "source": [
    "##### Threshold plots: $p_L$ vs. $p$"
   ]
  },
  {
   "cell_type": "code",
   "execution_count": 225,
   "metadata": {},
   "outputs": [
    {
     "ename": "ValueError",
     "evalue": "min() arg is an empty sequence",
     "output_type": "error",
     "traceback": [
      "\u001b[0;31m---------------------------------------------------------------------------\u001b[0m",
      "\u001b[0;31mValueError\u001b[0m                                Traceback (most recent call last)",
      "Cell \u001b[0;32mIn[225], line 6\u001b[0m\n\u001b[1;32m      2\u001b[0m reload(funcs)\n\u001b[1;32m      4\u001b[0m mylist \u001b[38;5;241m=\u001b[39m sinter\u001b[38;5;241m.\u001b[39mstats_from_csv_files(\u001b[38;5;124mf\u001b[39m\u001b[38;5;124m'\u001b[39m\u001b[38;5;124mcollected_stats/example_stats.csv\u001b[39m\u001b[38;5;124m'\u001b[39m)\n\u001b[0;32m----> 6\u001b[0m \u001b[43mfuncs\u001b[49m\u001b[38;5;241;43m.\u001b[39;49m\u001b[43mplot_thresholds\u001b[49m\u001b[43m(\u001b[49m\u001b[43mmylist\u001b[49m\u001b[43m,\u001b[49m\u001b[43m \u001b[49m\u001b[43mro_CNOT_order\u001b[49m\u001b[43m,\u001b[49m\u001b[43m \u001b[49m\u001b[43munro_CNOT_order\u001b[49m\u001b[43m,\u001b[49m\u001b[43m \u001b[49m\u001b[43mylims\u001b[49m\u001b[43m \u001b[49m\u001b[38;5;241;43m=\u001b[39;49m\u001b[43m \u001b[49m\u001b[43m[\u001b[49m\u001b[38;5;28;43;01mNone\u001b[39;49;00m\u001b[43m,\u001b[49m\u001b[43m \u001b[49m\u001b[38;5;28;43;01mNone\u001b[39;49;00m\u001b[43m]\u001b[49m\u001b[43m)\u001b[49m \u001b[38;5;66;03m# note different y-axis scalings\u001b[39;00m\n",
      "File \u001b[0;32m/mnt/c/Users/24510265/OneDrive - UTS/#PhD/∃xperiments/Compare the Pair/1_Compare the Pair w Idling/compare_the_pair/src/functions/com_funcs5.py:163\u001b[0m, in \u001b[0;36mplot_thresholds\u001b[0;34m(mylist, roorder, unroorder, romind, unromind, minp, maxp, output_dir, romaxd, unromaxd, find_pL_per, ylims, near_threshold_values, ignore_minds)\u001b[0m\n\u001b[1;32m    161\u001b[0m \u001b[38;5;28;01mfor\u001b[39;00m mem \u001b[38;5;129;01min\u001b[39;00m \u001b[38;5;124m'\u001b[39m\u001b[38;5;124mxz\u001b[39m\u001b[38;5;124m'\u001b[39m:\n\u001b[1;32m    162\u001b[0m     plt\u001b[38;5;241m.\u001b[39mgca()\u001b[38;5;241m.\u001b[39mset_prop_cycle(\u001b[38;5;28;01mNone\u001b[39;00m)  \u001b[38;5;66;03m# reset the colour cycle\u001b[39;00m\n\u001b[0;32m--> 163\u001b[0m     \u001b[43msinterplotthreshold_v2\u001b[49m\u001b[43m(\u001b[49m\u001b[43max\u001b[49m\u001b[43m,\u001b[49m\u001b[43mmylist\u001b[49m\u001b[43m,\u001b[49m\u001b[43morder\u001b[49m\u001b[43m,\u001b[49m\u001b[43mrot\u001b[49m\u001b[43m,\u001b[49m\u001b[43mmem\u001b[49m\u001b[43m,\u001b[49m\u001b[38;5;124;43m'\u001b[39;49m\u001b[38;5;124;43m3d\u001b[39;49m\u001b[38;5;124;43m'\u001b[39;49m\u001b[43m,\u001b[49m\u001b[43mfind_pL_per\u001b[49m\u001b[43m,\u001b[49m\u001b[43mromind\u001b[49m\u001b[43m,\u001b[49m\u001b[43m \u001b[49m\u001b[43munromind\u001b[49m\u001b[43m,\u001b[49m\u001b[43m \u001b[49m\u001b[43mmaxd\u001b[49m\u001b[43m,\u001b[49m\u001b[43m \u001b[49m\u001b[43mminp\u001b[49m\u001b[43m \u001b[49m\u001b[38;5;241;43m=\u001b[39;49m\u001b[43m \u001b[49m\u001b[43mminp\u001b[49m\u001b[43m,\u001b[49m\u001b[43m \u001b[49m\u001b[43mmaxp\u001b[49m\u001b[43m \u001b[49m\u001b[38;5;241;43m=\u001b[39;49m\u001b[43m \u001b[49m\u001b[43mmaxp\u001b[49m\u001b[43m,\u001b[49m\u001b[43mnear_threshold_values\u001b[49m\u001b[43m \u001b[49m\u001b[38;5;241;43m=\u001b[39;49m\u001b[43m \u001b[49m\u001b[43mnear_threshold_values\u001b[49m\u001b[43m,\u001b[49m\u001b[43m \u001b[49m\u001b[43mignore_minds\u001b[49m\u001b[43m \u001b[49m\u001b[38;5;241;43m=\u001b[39;49m\u001b[43m \u001b[49m\u001b[43mignore_minds\u001b[49m\u001b[43m)\u001b[49m\n\u001b[1;32m    164\u001b[0m     ax\u001b[38;5;241m.\u001b[39mset_ylim(ylims[\u001b[38;5;241m0\u001b[39m], ylims[\u001b[38;5;241m1\u001b[39m])\n\u001b[1;32m    166\u001b[0m \u001b[38;5;66;03m# Get the handles and labels\u001b[39;00m\n",
      "File \u001b[0;32m/mnt/c/Users/24510265/OneDrive - UTS/#PhD/∃xperiments/Compare the Pair/1_Compare the Pair w Idling/compare_the_pair/src/functions/com_funcs5.py:222\u001b[0m, in \u001b[0;36msinterplotthreshold_v2\u001b[0;34m(ax, mylist, order, rot, mem, num_rounds, find_pL_per, romind, unromind, maxd, maxp, minp, near_threshold_values, ignore_minds)\u001b[0m\n\u001b[1;32m    219\u001b[0m     \u001b[38;5;28;01mif\u001b[39;00m rotation \u001b[38;5;241m==\u001b[39m \u001b[38;5;124m'\u001b[39m\u001b[38;5;124munro\u001b[39m\u001b[38;5;124m'\u001b[39m \u001b[38;5;129;01mand\u001b[39;00m d \u001b[38;5;129;01mnot\u001b[39;00m \u001b[38;5;129;01min\u001b[39;00m unro_ds:\n\u001b[1;32m    220\u001b[0m         unro_ds\u001b[38;5;241m.\u001b[39mappend(d)\n\u001b[0;32m--> 222\u001b[0m \u001b[38;5;28;01mif\u001b[39;00m romind \u001b[38;5;241m<\u001b[39m \u001b[38;5;28;43mmin\u001b[39;49m\u001b[43m(\u001b[49m\u001b[43mro_ds\u001b[49m\u001b[43m)\u001b[49m:\n\u001b[1;32m    223\u001b[0m     romind \u001b[38;5;241m=\u001b[39m \u001b[38;5;28mmin\u001b[39m(ro_ds)\n\u001b[1;32m    224\u001b[0m \u001b[38;5;28;01mif\u001b[39;00m unromind \u001b[38;5;241m<\u001b[39m \u001b[38;5;28mmin\u001b[39m(unro_ds):\n",
      "\u001b[0;31mValueError\u001b[0m: min() arg is an empty sequence"
     ]
    },
    {
     "data": {
      "image/png": "[encoded data removed]",
      "text/plain": [
       "<Figure size 540x480 with 1 Axes>"
      ]
     },
     "metadata": {},
     "output_type": "display_data"
    }
   ],
   "source": [
    "# python:\n",
    "reload(funcs)\n",
    "\n",
    "mylist = sinter.stats_from_csv_files(f'collected_stats/example_stats.csv')\n",
    "\n",
    "funcs.plot_thresholds(mylist, ro_CNOT_order, unro_CNOT_order, ylims = [None, None]) # note different y-axis scalings"
   ]
  },
  {
   "cell_type": "markdown",
   "metadata": {},
   "source": [
    "##### Fit to scaling function $p_L = \\alpha ( p / \\beta)^{\\gamma d - \\delta}$"
   ]
  },
  {
   "cell_type": "code",
   "execution_count": null,
   "metadata": {},
   "outputs": [
    {
     "name": "stdout",
     "output_type": "stream",
     "text": [
      "Need at least two combined distances to perform fit. Skipping this function.\n"
     ]
    }
   ],
   "source": [
    "reload(funcs)\n",
    "distances = 'combined' # choices are 'odd', 'even' or 'combined'\n",
    "b = 'z' # choices are x or z \n",
    "\n",
    "funcs.fit_scaling_and_plot(mylist, distances, b, ro_CNOT_order, unro_CNOT_order, minp = min(p_values), maxp = max(p_values)) "
   ]
  },
  {
   "cell_type": "markdown",
   "metadata": {},
   "source": [
    "##### Plot as $p_L$ vs. $\\sqrt{n}$"
   ]
  },
  {
   "cell_type": "code",
   "execution_count": null,
   "metadata": {},
   "outputs": [
    {
     "name": "stderr",
     "output_type": "stream",
     "text": [
      "/home/fourmi/.local/lib/python3.10/site-packages/scipy/stats/_stats_mstats_common.py:182: RuntimeWarning: invalid value encountered in scalar divide\n",
      "  slope = ssxym / ssxm\n",
      "/home/fourmi/.local/lib/python3.10/site-packages/scipy/stats/_stats_mstats_common.py:196: RuntimeWarning: invalid value encountered in sqrt\n",
      "  t = r * np.sqrt(df / ((1.0 - r + TINY)*(1.0 + r + TINY)))\n",
      "/home/fourmi/.local/lib/python3.10/site-packages/scipy/stats/_stats_mstats_common.py:199: RuntimeWarning: invalid value encountered in scalar divide\n",
      "  slope_stderr = np.sqrt((1 - r**2) * ssym / ssxm / df)\n"
     ]
    },
    {
     "ename": "SystemExit",
     "evalue": "No circuits matched p=0.001,b=z,rt=unro,o=10231203 in input csv file.",
     "output_type": "error",
     "traceback": [
      "An exception has occurred, use %tb to see the full traceback.\n",
      "\u001b[0;31mSystemExit\u001b[0m\u001b[0;31m:\u001b[0m No circuits matched p=0.001,b=z,rt=unro,o=10231203 in input csv file.\n"
     ]
    },
    {
     "name": "stderr",
     "output_type": "stream",
     "text": [
      "/home/fourmi/.local/lib/python3.10/site-packages/IPython/core/interactiveshell.py:3534: UserWarning: To exit: use 'exit', 'quit', or Ctrl-D.\n",
      "  warn(\"To exit: use 'exit', 'quit', or Ctrl-D.\", stacklevel=1)\n"
     ]
    },
    {
     "data": {
      "image/png": "[encoded data removed]",
      "text/plain": [
       "<Figure size 540x480 with 1 Axes>"
      ]
     },
     "metadata": {},
     "output_type": "display_data"
    }
   ],
   "source": [
    "reload(funcs)\n",
    "\n",
    "b = 'z' \n",
    "\n",
    "mylist = sinter.stats_from_csv_files(f'collected_stats/example_stats.csv')\n",
    "# \n",
    "funcs.plot_pL_vs_qubit_count(mylist, b, ro_CNOT_order, unro_CNOT_order)"
   ]
  },
  {
   "cell_type": "markdown",
   "metadata": {},
   "source": [
    "##### Plot 'teraquop' count :$\\ $ the number of qubits required to reach $p_L = 10^{-12}$"
   ]
  },
  {
   "cell_type": "code",
   "execution_count": null,
   "metadata": {},
   "outputs": [
    {
     "data": {
      "text/latex": [
       "$\\displaystyle \\text{Memory  }  Z : \\hat{p}_{\\text{MLE}}$"
      ],
      "text/plain": [
       "<IPython.core.display.Math object>"
      ]
     },
     "metadata": {},
     "output_type": "display_data"
    },
    {
     "ename": "ZeroDivisionError",
     "evalue": "division by zero",
     "output_type": "error",
     "traceback": [
      "\u001b[0;31m---------------------------------------------------------------------------\u001b[0m",
      "\u001b[0;31mZeroDivisionError\u001b[0m                         Traceback (most recent call last)",
      "Cell \u001b[0;32mIn[114], line 1\u001b[0m\n\u001b[0;32m----> 1\u001b[0m \u001b[43mfuncs\u001b[49m\u001b[38;5;241;43m.\u001b[39;49m\u001b[43mplot_teraquop\u001b[49m\u001b[43m(\u001b[49m\u001b[43mmylist\u001b[49m\u001b[43m,\u001b[49m\u001b[43m \u001b[49m\u001b[43mb\u001b[49m\u001b[43m,\u001b[49m\u001b[43m \u001b[49m\u001b[43mro_CNOT_order\u001b[49m\u001b[43m,\u001b[49m\u001b[43m \u001b[49m\u001b[43munro_CNOT_order\u001b[49m\u001b[43m,\u001b[49m\u001b[43m \u001b[49m\u001b[43moptional_plot\u001b[49m\u001b[43m \u001b[49m\u001b[38;5;241;43m=\u001b[39;49m\u001b[43m \u001b[49m\u001b[38;5;28;43;01mFalse\u001b[39;49;00m\u001b[43m)\u001b[49m\n",
      "File \u001b[0;32m/mnt/c/Users/24510265/OneDrive - UTS/#PhD/∃xperiments/Compare the Pair/1_Compare the Pair w Idling/compare_the_pair/src/functions/com_funcs5.py:1521\u001b[0m, in \u001b[0;36mplot_teraquop\u001b[0;34m(mylist, b, roorder, unroorder, ps, noise_model, romind, unromind, optional_plot, teraquop_inset)\u001b[0m\n\u001b[1;32m   1518\u001b[0m     color_end \u001b[38;5;241m=\u001b[39m np\u001b[38;5;241m.\u001b[39marray([\u001b[38;5;241m112\u001b[39m,\u001b[38;5;241m8\u001b[39m,\u001b[38;5;241m112\u001b[39m]) \u001b[38;5;241m/\u001b[39m \u001b[38;5;241m255\u001b[39m      \u001b[38;5;66;03m# purple\u001b[39;00m\n\u001b[1;32m   1519\u001b[0m     color_start \u001b[38;5;241m=\u001b[39m np\u001b[38;5;241m.\u001b[39marray([\u001b[38;5;241m254\u001b[39m,\u001b[38;5;241m1\u001b[39m,\u001b[38;5;241m154\u001b[39m]) \u001b[38;5;241m/\u001b[39m \u001b[38;5;241m255\u001b[39m    \u001b[38;5;66;03m# neon pink\u001b[39;00m\n\u001b[0;32m-> 1521\u001b[0m colours \u001b[38;5;241m=\u001b[39m [color_start \u001b[38;5;241m+\u001b[39m (color_end \u001b[38;5;241m-\u001b[39m color_start) \u001b[38;5;241m*\u001b[39m (i \u001b[38;5;241m/\u001b[39m (num_lines \u001b[38;5;241m-\u001b[39m \u001b[38;5;241m1\u001b[39m)) \u001b[38;5;28;01mfor\u001b[39;00m i \u001b[38;5;129;01min\u001b[39;00m \u001b[38;5;28mrange\u001b[39m(num_lines)]\n\u001b[1;32m   1523\u001b[0m \u001b[38;5;66;03m# print(f\"\\n{rotation}\")\u001b[39;00m\n\u001b[1;32m   1525\u001b[0m \u001b[38;5;28;01mfor\u001b[39;00m noise, mind, maxd \u001b[38;5;129;01min\u001b[39;00m \u001b[38;5;28mzip\u001b[39m(ps, minds, maxds):\n\u001b[1;32m   1526\u001b[0m \n\u001b[1;32m   1527\u001b[0m     \u001b[38;5;66;03m# GRADIENTS AND INTERCEPTS HERE ARE FITS FOR log10(p_L) = m * d + b \u001b[39;00m\n",
      "File \u001b[0;32m/mnt/c/Users/24510265/OneDrive - UTS/#PhD/∃xperiments/Compare the Pair/1_Compare the Pair w Idling/compare_the_pair/src/functions/com_funcs5.py:1521\u001b[0m, in \u001b[0;36m<listcomp>\u001b[0;34m(.0)\u001b[0m\n\u001b[1;32m   1518\u001b[0m     color_end \u001b[38;5;241m=\u001b[39m np\u001b[38;5;241m.\u001b[39marray([\u001b[38;5;241m112\u001b[39m,\u001b[38;5;241m8\u001b[39m,\u001b[38;5;241m112\u001b[39m]) \u001b[38;5;241m/\u001b[39m \u001b[38;5;241m255\u001b[39m      \u001b[38;5;66;03m# purple\u001b[39;00m\n\u001b[1;32m   1519\u001b[0m     color_start \u001b[38;5;241m=\u001b[39m np\u001b[38;5;241m.\u001b[39marray([\u001b[38;5;241m254\u001b[39m,\u001b[38;5;241m1\u001b[39m,\u001b[38;5;241m154\u001b[39m]) \u001b[38;5;241m/\u001b[39m \u001b[38;5;241m255\u001b[39m    \u001b[38;5;66;03m# neon pink\u001b[39;00m\n\u001b[0;32m-> 1521\u001b[0m colours \u001b[38;5;241m=\u001b[39m [color_start \u001b[38;5;241m+\u001b[39m (color_end \u001b[38;5;241m-\u001b[39m color_start) \u001b[38;5;241m*\u001b[39m (\u001b[43mi\u001b[49m\u001b[43m \u001b[49m\u001b[38;5;241;43m/\u001b[39;49m\u001b[43m \u001b[49m\u001b[43m(\u001b[49m\u001b[43mnum_lines\u001b[49m\u001b[43m \u001b[49m\u001b[38;5;241;43m-\u001b[39;49m\u001b[43m \u001b[49m\u001b[38;5;241;43m1\u001b[39;49m\u001b[43m)\u001b[49m) \u001b[38;5;28;01mfor\u001b[39;00m i \u001b[38;5;129;01min\u001b[39;00m \u001b[38;5;28mrange\u001b[39m(num_lines)]\n\u001b[1;32m   1523\u001b[0m \u001b[38;5;66;03m# print(f\"\\n{rotation}\")\u001b[39;00m\n\u001b[1;32m   1525\u001b[0m \u001b[38;5;28;01mfor\u001b[39;00m noise, mind, maxd \u001b[38;5;129;01min\u001b[39;00m \u001b[38;5;28mzip\u001b[39m(ps, minds, maxds):\n\u001b[1;32m   1526\u001b[0m \n\u001b[1;32m   1527\u001b[0m     \u001b[38;5;66;03m# GRADIENTS AND INTERCEPTS HERE ARE FITS FOR log10(p_L) = m * d + b \u001b[39;00m\n",
      "\u001b[0;31mZeroDivisionError\u001b[0m: division by zero"
     ]
    }
   ],
   "source": [
    "funcs.plot_teraquop(mylist, b, ro_CNOT_order, unro_CNOT_order, optional_plot = False)"
   ]
  },
  {
   "cell_type": "markdown",
   "metadata": {},
   "source": [
    "##### Plot ratios of qubit counts vs. $p_L$"
   ]
  },
  {
   "cell_type": "markdown",
   "metadata": {},
   "source": [
    "This is the projected number of qubits used by the rotated surface code divided by the number of qubits used by the unrotated surface code to achieve the same $p_L$"
   ]
  },
  {
   "cell_type": "code",
   "execution_count": null,
   "metadata": {},
   "outputs": [],
   "source": [
    "reload(funcs)\n",
    "\n",
    "funcs.plot_ratio(mylist, b, ro_CNOT_order, unro_CNOT_order)"
   ]
  },
  {
   "cell_type": "markdown",
   "metadata": {},
   "source": [
    "##### Memory time vs. $\\sqrt{n}$"
   ]
  },
  {
   "cell_type": "markdown",
   "metadata": {},
   "source": [
    "This is a reformulation of the $p_L$ vs. $\\sqrt{n}$ plots above, converting the $p_L$ per $d$ rounds to be the length of time (assuming one stabiliser measurement cycle take a microsecond) before $p_L$ over the entire shot of the memory experiment equals $p$."
   ]
  },
  {
   "cell_type": "code",
   "execution_count": null,
   "metadata": {},
   "outputs": [],
   "source": [
    "funcs.plot_memory_times(mylist, b, ro_CNOT_order, unro_CNOT_order)"
   ]
  }
 ],
 "metadata": {
  "kernelspec": {
   "display_name": "Python 3",
   "language": "python",
   "name": "python3"
  },
  "language_info": {
   "codemirror_mode": {
    "name": "ipython",
    "version": 3
   },
   "file_extension": ".py",
   "mimetype": "text/x-python",
   "name": "python",
   "nbconvert_exporter": "python",
   "pygments_lexer": "ipython3",
   "version": "3.10.6"
  }
 },
 "nbformat": 4,
 "nbformat_minor": 2
}
