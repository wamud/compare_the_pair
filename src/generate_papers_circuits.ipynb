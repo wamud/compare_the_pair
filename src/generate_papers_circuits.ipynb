{
 "cells": [
  {
   "cell_type": "markdown",
   "metadata": {},
   "source": [
    "Generates the circuits used for the main results in the paper"
   ]
  },
  {
   "cell_type": "code",
   "execution_count": 5,
   "metadata": {},
   "outputs": [],
   "source": [
    "# pip install stim      # Stim: a stabiliser circuit simulator"
   ]
  },
  {
   "cell_type": "code",
   "execution_count": null,
   "metadata": {},
   "outputs": [
    {
     "name": "stdout",
     "output_type": "stream",
     "text": [
      "Defaulting to user installation because normal site-packages is not writeable\n",
      "Collecting sinter==1.12.0\n",
      "  Using cached sinter-1.12.0-py3-none-any.whl\n",
      "Requirement already satisfied: matplotlib~=3.5 in /home/fourmi/.local/lib/python3.10/site-packages (from sinter==1.12.0) (3.8.2)\n",
      "Requirement already satisfied: scipy~=1.9 in /home/fourmi/.local/lib/python3.10/site-packages (from sinter==1.12.0) (1.11.4)\n",
      "Requirement already satisfied: stim~=1.9 in /home/fourmi/.local/lib/python3.10/site-packages (from sinter==1.12.0) (1.11.0)\n",
      "Requirement already satisfied: numpy~=1.22 in /home/fourmi/.local/lib/python3.10/site-packages (from sinter==1.12.0) (1.26.2)\n",
      "Requirement already satisfied: packaging>=20.0 in /home/fourmi/.local/lib/python3.10/site-packages (from matplotlib~=3.5->sinter==1.12.0) (23.2)\n",
      "Requirement already satisfied: pillow>=8 in /home/fourmi/.local/lib/python3.10/site-packages (from matplotlib~=3.5->sinter==1.12.0) (10.1.0)\n",
      "Requirement already satisfied: pyparsing>=2.3.1 in /home/fourmi/.local/lib/python3.10/site-packages (from matplotlib~=3.5->sinter==1.12.0) (3.1.1)\n",
      "Requirement already satisfied: kiwisolver>=1.3.1 in /home/fourmi/.local/lib/python3.10/site-packages (from matplotlib~=3.5->sinter==1.12.0) (1.4.5)\n",
      "Requirement already satisfied: python-dateutil>=2.7 in /home/fourmi/.local/lib/python3.10/site-packages (from matplotlib~=3.5->sinter==1.12.0) (2.8.2)\n",
      "Requirement already satisfied: contourpy>=1.0.1 in /home/fourmi/.local/lib/python3.10/site-packages (from matplotlib~=3.5->sinter==1.12.0) (1.2.0)\n",
      "Requirement already satisfied: fonttools>=4.22.0 in /home/fourmi/.local/lib/python3.10/site-packages (from matplotlib~=3.5->sinter==1.12.0) (4.45.0)\n",
      "Requirement already satisfied: cycler>=0.10 in /home/fourmi/.local/lib/python3.10/site-packages (from matplotlib~=3.5->sinter==1.12.0) (0.12.1)\n",
      "Requirement already satisfied: six>=1.5 in /home/fourmi/.local/lib/python3.10/site-packages (from python-dateutil>=2.7->matplotlib~=3.5->sinter==1.12.0) (1.16.0)\n",
      "Installing collected packages: sinter\n",
      "Successfully installed sinter-1.12.0\n",
      "Note: you may need to restart the kernel to use updated packages.\n"
     ]
    }
   ],
   "source": [
    "# pip install sinter==1.12.0"
   ]
  },
  {
   "cell_type": "code",
   "execution_count": 2,
   "metadata": {},
   "outputs": [],
   "source": [
    "import sinter\n",
    "import stim\n",
    "import numpy as np\n",
    "\n",
    "import os\n",
    "import sys\n",
    "\n",
    "import shutil\n",
    "import subprocess\n",
    "\n",
    "sys.path.insert(0, 'functions') \n",
    "import oscAntgencircuitv2 as oscant\n",
    "import morefuncs as morefuncs\n",
    "import com_funcs5 as funcs\n",
    "\n",
    "# Update with any changes to these files:\n",
    "from importlib import reload\n",
    "reload(morefuncs)\n",
    "reload(funcs)\n",
    "reload(oscant);"
   ]
  },
  {
   "cell_type": "code",
   "execution_count": 4,
   "metadata": {},
   "outputs": [],
   "source": [
    "reload(morefuncs)\n",
    "\n",
    "directory = \"circuits/supplementary_circuits/example_circuits/\"\n",
    "\n",
    "# Delete existing circuits (so as not to simulate them)\n",
    "shutil.rmtree(f'{directory}/SD/', ignore_errors=True)\n",
    "shutil.rmtree(f'{directory}/SI/', ignore_errors=True)\n",
    "\n",
    "# Make directories to store new circuits:\n",
    "for path in ['SI/x', 'SI/z', 'SD/x', 'SD/z']:\n",
    "    os.makedirs(f'{directory}/{path}', exist_ok=True)\n",
    "\n",
    "\n",
    "# Generate circuits:\n",
    "\n",
    "# x = (...) and z = (...) below define the CNOT order for x and z type stabilisers. E.g. order 10231203 avoids hook errors in the rotated code and is a worst-case CNOT order for the unrotated code if doing memory Z experiments (worst-case taken to be most applicable to all states). \n",
    "\n",
    "p_values = [0.0005,0.0007,0.001,0.002,0.003,0.004,0.0049,0.005,0.0051,0.0052,0.0055,0.0056,0.0057,0.0058,0.006,0.007,0.008,0.009,0.01] \n",
    "\n",
    "# CNOT orders for x-type and z-type stabiliser measurements:\n",
    "x = (1,0,2,3) # x hook error in rotated code if last two x-type CNOT's are 12, 21, 03 or 30\n",
    "z = (1,2,0,3) # z hook error in rotated code if last two z-type CNOT's are 01, 10, 23 or 32\n",
    "\n",
    "for ro in ['unro','ro']:\n",
    "    \n",
    "    if ro == 'unro':\n",
    "        unro_CNOT_order = int(''.join(map(str, x + z)))\n",
    "        ds = range(2,18)\n",
    "\n",
    "    elif ro == 'ro':\n",
    "        ro_CNOT_order = int(''.join(map(str, x + z)))\n",
    "        ds = range(2,23)\n",
    "    \n",
    "    for d in ds:\n",
    "        for p in p_values:\n",
    "            if ro == 'unro':\n",
    "                if d > 13 and p < 0.0007:\n",
    "                    continue\n",
    "                if d > 15 and p < 0.001:\n",
    "                    continue\n",
    "            \n",
    "            if ro == 'ro':\n",
    "                if d > 17 and p < 0.0007:\n",
    "                    continue\n",
    "                if d > 18 and p < 0.001:\n",
    "                    continue\n",
    "\n",
    "            \n",
    "            for b in 'xz':\n",
    "                thecircuit = oscant.generate_circuit(\n",
    "                    f\"surface_code:{ro}tated_memory_{b}\",\n",
    "                    rounds=3*d, \n",
    "                    distance=d, \n",
    "                    after_clifford_depolarization=p,\n",
    "                    after_reset_flip_probability=p,\n",
    "                    before_measure_flip_probability=p, \n",
    "                    # before_round_data_depolarization=p, # can be removed as is then implemented by adding idling errors function anyway (just kept in to be consistent with paper circuits)\n",
    "                    x_cnot_order = x,\n",
    "                    z_cnot_order = z,\n",
    "                    exclude_other_basis_detectors = True, # no need to add their detections to the graph which will be given to PyMatching as it is not a correlated decoder (still perform the opposite basis' stabiliser measurements though)\n",
    "                )\n",
    "\n",
    "                morefuncs.add_idling_errors_and_save_circuit(thecircuit, b, d, p, ro, x, z, directory) # saves circuit in circuits/SD (standard depolarising)\n",
    "\n",
    "                # # Optional: Generate SI (SI with CX gates) p_values model circuits too by adjusting error probs. of SD circuits then saving a separate circuit:\n",
    "\n",
    "                thecircuit = morefuncs.make_SI_circuit(b, d, p, ro, x, z, directory)"
   ]
  }
 ],
 "metadata": {
  "kernelspec": {
   "display_name": "Python 3",
   "language": "python",
   "name": "python3"
  },
  "language_info": {
   "codemirror_mode": {
    "name": "ipython",
    "version": 3
   },
   "file_extension": ".py",
   "mimetype": "text/x-python",
   "name": "python",
   "nbconvert_exporter": "python",
   "pygments_lexer": "ipython3",
   "version": "3.10.6"
  }
 },
 "nbformat": 4,
 "nbformat_minor": 2
}
